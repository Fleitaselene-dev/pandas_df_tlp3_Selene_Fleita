{
 "cells": [
  {
   "cell_type": "markdown",
   "id": "12ad2501",
   "metadata": {},
   "source": [
    "# Actividad - Trabajando con DataFrames de Pandas.\n",
    "## Criterios de evaluación.\n",
    "\n",
    "* Se deben utilizar nombres de variables descriptivos y claros (Utilizar la nomeclatura correspondiente para los nombres de variables).\n",
    "* Comentarios claros y concisos que expliquen el propósito de cada sección del código.\n",
    "* Utilizar mensajes de commit **descriptivos**. (Puedes utilizar la extension CONVENTIONAL COMMIT de VS-CODE). \n",
    "* Entrega en tiempo y forma.\n",
    "* Todo el código desarrollado debe ser subido a un repositorio en GitHub (el nombre del repositorio de seguir la siguiente estructura: pandas_df_tlp3_nombre_apellido).\n",
    "* Para resolver las actividades se debe insertar casillas de codigo entre cada actividad del cuaderno de Jupyter\n",
    "* Deben trabajar con el datasets adjunto a la actividad\n",
    "\n",
    "### ¡Importante!\n",
    "**El incumplimiento de los criterios de evaluación restará puntos en la nota final del práctico!**"
   ]
  },
  {
   "cell_type": "code",
   "execution_count": 2,
   "id": "afc60e66",
   "metadata": {},
   "outputs": [],
   "source": [
    "import pandas as pd\n",
    "import sqlite3\n",
    "\n",
    "#Aqui agrega la conexión a la base de datos\n",
    "conn = sqlite3.connect(\"Salaries.sqlite\")\n",
    "\n",
    "#Crea el dataframe con los datos del datasets\n",
    "df = pd.read_sql_query(\"SELECT * FROM Salaries\", conn)\n",
    "\n",
    "#Cerrar conexion\n",
    "conn.close()"
   ]
  },
  {
   "cell_type": "code",
   "execution_count": 6,
   "id": "5f09e4a1",
   "metadata": {},
   "outputs": [
    {
     "data": {
      "text/plain": [
       "Id                  False\n",
       "EmployeeName        False\n",
       "JobTitle            False\n",
       "BasePay             False\n",
       "OvertimePay         False\n",
       "OtherPay            False\n",
       "Benefits            False\n",
       "TotalPay            False\n",
       "TotalPayBenefits    False\n",
       "Year                False\n",
       "Notes               False\n",
       "Agency              False\n",
       "Status              False\n",
       "dtype: bool"
      ]
     },
     "execution_count": 6,
     "metadata": {},
     "output_type": "execute_result"
    }
   ],
   "source": [
    "df.count().isnull()"
   ]
  },
  {
   "cell_type": "code",
   "execution_count": 7,
   "id": "4a98f5c3",
   "metadata": {},
   "outputs": [
    {
     "name": "stdout",
     "output_type": "stream",
     "text": [
      "Id                       0\n",
      "EmployeeName             0\n",
      "JobTitle                 0\n",
      "BasePay                605\n",
      "OvertimePay              0\n",
      "OtherPay                 0\n",
      "Benefits             36159\n",
      "TotalPay                 0\n",
      "TotalPayBenefits         0\n",
      "Year                     0\n",
      "Notes               148654\n",
      "Agency                   0\n",
      "Status              110535\n",
      "dtype: int64\n"
     ]
    }
   ],
   "source": [
    "print(df.isnull().sum())"
   ]
  },
  {
   "cell_type": "markdown",
   "id": "b993b225",
   "metadata": {},
   "source": [
    "1. **Top 10 empleados con mayor salario total (incluyendo beneficios)**\n",
    "Extrae e imprime un top 10 de expleados con mayor salario incluyendo los beneficios \n"
   ]
  },
  {
   "cell_type": "code",
   "execution_count": 3,
   "id": "135f2471",
   "metadata": {},
   "outputs": [
    {
     "name": "stdout",
     "output_type": "stream",
     "text": [
      "                EmployeeName  TotalPayBenefits\n",
      "0             NATHANIEL FORD         567595.43\n",
      "1               GARY JIMENEZ         538909.28\n",
      "110531           David Shinn         510732.68\n",
      "110532            Amy P Hart         479652.21\n",
      "110533  William J Coaker Jr.         436224.36\n",
      "72925         Gregory P Suhr         425815.28\n",
      "72926   Joanne M Hayes-White         422353.40\n",
      "110534        Gregory P Suhr         418019.22\n",
      "110535  Joanne M Hayes-White         417435.10\n",
      "110536       Ellen G Moffatt         415767.94\n"
     ]
    }
   ],
   "source": [
    "#Extraer los 10 empleados con mayor salario (nombre + salario y beneficio)\n",
    "top = df.nlargest(10, 'TotalPayBenefits')[['EmployeeName','TotalPayBenefits']]\n",
    "print(top)"
   ]
  },
  {
   "cell_type": "markdown",
   "id": "fd03ce6c",
   "metadata": {},
   "source": [
    "2. **Filtrar empleados con más de 50,000 en horas extra, la columna a tratar es: (OvertimePay)**"
   ]
  },
  {
   "cell_type": "code",
   "execution_count": 12,
   "id": "c5dc65c7",
   "metadata": {},
   "outputs": [
    {
     "name": "stdout",
     "output_type": "stream",
     "text": [
      "            Id       EmployeeName  \\\n",
      "1            2       GARY JIMENEZ   \n",
      "2            3     ALBERT PARDINI   \n",
      "3            4  CHRISTOPHER CHONG   \n",
      "4            5    PATRICK GARDNER   \n",
      "5            6     DAVID SULLIVAN   \n",
      "...        ...                ...   \n",
      "148285  148286      Greg K Hansen   \n",
      "148300  148301      Julien N Heng   \n",
      "148386  148387      Michael Brito   \n",
      "148398  148399     Shane O'Connor   \n",
      "148412  148413      Johan L Selor   \n",
      "\n",
      "                                            JobTitle    BasePay  OvertimePay  \\\n",
      "1                    CAPTAIN III (POLICE DEPARTMENT)  155966.02       245131   \n",
      "2                    CAPTAIN III (POLICE DEPARTMENT)  212739.13       106088   \n",
      "3               WIRE ROPE CABLE MAINTENANCE MECHANIC    77916.0        56120   \n",
      "4       DEPUTY CHIEF OF DEPARTMENT,(FIRE DEPARTMENT)   134401.6         9737   \n",
      "5                          ASSISTANT DEPUTY CHIEF II   118602.0         8601   \n",
      "...                                              ...        ...          ...   \n",
      "148285                                  Junior Clerk     156.50          249   \n",
      "148300                                  Junior Clerk     152.00          228   \n",
      "148386                                  Junior Clerk     156.50          102   \n",
      "148398                              Transit Operator     151.38           56   \n",
      "148412                            Testing Technician     186.20           52   \n",
      "\n",
      "         OtherPay Benefits   TotalPay  TotalPayBenefits  Year Notes  \\\n",
      "1       137811.38     None  538909.28         538909.28  2011  None   \n",
      "2         16452.6     None  335279.91         335279.91  2011  None   \n",
      "3        198306.9     None  332343.61         332343.61  2011  None   \n",
      "4       182234.59     None  326373.19         326373.19  2011  None   \n",
      "5       189082.74     None  316285.74         316285.74  2011  None   \n",
      "...           ...      ...        ...               ...   ...   ...   \n",
      "148285       0.00     4.06     405.92            409.98  2014  None   \n",
      "148300       0.00     3.80     380.00            383.80  2014  None   \n",
      "148386       0.00     2.59     259.20            261.79  2014  None   \n",
      "148398       0.00    42.84     208.15            250.99  2014  None   \n",
      "148412       0.00     2.39     238.57            240.96  2014  None   \n",
      "\n",
      "               Agency Status  \n",
      "1       San Francisco   None  \n",
      "2       San Francisco   None  \n",
      "3       San Francisco   None  \n",
      "4       San Francisco   None  \n",
      "5       San Francisco   None  \n",
      "...               ...    ...  \n",
      "148285  San Francisco     PT  \n",
      "148300  San Francisco     PT  \n",
      "148386  San Francisco     PT  \n",
      "148398  San Francisco     PT  \n",
      "148412  San Francisco     PT  \n",
      "\n",
      "[70239 rows x 13 columns]\n"
     ]
    }
   ],
   "source": [
    "#Convertir los valores no numericos a NAN\n",
    "df['OvertimePay'] = pd.to_numeric(df['OvertimePay'], errors='coerce')\n",
    "#Reemplazar NaN a 0\n",
    "df['OvertimePay'] = df['OvertimePay'].fillna(0)\n",
    "#Convertir la columna a int\n",
    "df['OvertimePay']= df['OvertimePay'].astype(int)\n",
    "#Condicion de filtrar solo los mayores a 50000\n",
    "horasextra = df[df['OvertimePay'] > 50.000] \n",
    "print(horasextra)\n"
   ]
  },
  {
   "cell_type": "markdown",
   "id": "518b4eab",
   "metadata": {},
   "source": [
    "3. **Contar cuántos empleados únicos hay por año**"
   ]
  },
  {
   "cell_type": "code",
   "execution_count": null,
   "id": "e35c5908",
   "metadata": {},
   "outputs": [
    {
     "data": {
      "text/plain": [
       "Year\n",
       "2011    33878\n",
       "2012    34349\n",
       "2013    36150\n",
       "2014    36684\n",
       "Name: EmployeeName, dtype: int64"
      ]
     },
     "execution_count": 16,
     "metadata": {},
     "output_type": "execute_result"
    }
   ],
   "source": [
    "#Agrupa el df por las columnas Year y EmployeeName\n",
    "#Cuenta los nombres unicos que hay por año \n",
    "empleados = df.groupby('Year')['EmployeeName'].nunique()\n",
    "empleados"
   ]
  },
  {
   "cell_type": "markdown",
   "id": "9105e992",
   "metadata": {},
   "source": [
    "4. **Ver cuántos cargos únicos (JobTitle) existen y los 5 más comunes**"
   ]
  },
  {
   "cell_type": "code",
   "execution_count": null,
   "id": "e388d537",
   "metadata": {},
   "outputs": [
    {
     "name": "stdout",
     "output_type": "stream",
     "text": [
      "Numero de cargos unicos:  2159\n",
      "Mas comunes: JobTitle\n",
      "Transit Operator                7036\n",
      "Special Nurse                   4389\n",
      "Registered Nurse                3736\n",
      "Public Svc Aide-Public Works    2518\n",
      "Police Officer 3                2421\n",
      "Name: count, dtype: int64\n"
     ]
    }
   ],
   "source": [
    "#Cuenta los cargos unicos que tiene la columna JobTitle\n",
    "cargos = df['JobTitle'].nunique()\n",
    "print(\"Numero de cargos unicos: \",cargos)\n",
    "#Cuenta cuantas veces aparece cada cargo \n",
    "comunes = df['JobTitle'].value_counts()\n",
    "#Muestra los 5 primeros mas comunes\n",
    "print(\"Mas comunes:\",comunes.head(5))"
   ]
  },
  {
   "cell_type": "markdown",
   "id": "b34c7043",
   "metadata": {},
   "source": [
    "5. **Mostrar el salario total (TotalPay) promedio por año**"
   ]
  },
  {
   "cell_type": "code",
   "execution_count": 27,
   "id": "64d765f0",
   "metadata": {},
   "outputs": [
    {
     "data": {
      "text/plain": [
       "Year\n",
       "2011    71744.103871\n",
       "2012    74113.262265\n",
       "2013    77611.443142\n",
       "2014    75463.918140\n",
       "Name: TotalPay, dtype: float64"
      ]
     },
     "execution_count": 27,
     "metadata": {},
     "output_type": "execute_result"
    }
   ],
   "source": [
    "#Agrupar el TotalPay por año y sacar el promedio\n",
    "salario = df.groupby('Year')['TotalPay'].mean()\n",
    "salario\n"
   ]
  },
  {
   "cell_type": "markdown",
   "id": "cd1d7071",
   "metadata": {},
   "source": [
    "6. **Exporta todos los datos a un CSV y muestra los ultimos 10 valores**"
   ]
  },
  {
   "cell_type": "code",
   "execution_count": null,
   "id": "1f27e45c",
   "metadata": {},
   "outputs": [],
   "source": [
    "#todo"
   ]
  }
 ],
 "metadata": {
  "kernelspec": {
   "display_name": "env",
   "language": "python",
   "name": "python3"
  },
  "language_info": {
   "codemirror_mode": {
    "name": "ipython",
    "version": 3
   },
   "file_extension": ".py",
   "mimetype": "text/x-python",
   "name": "python",
   "nbconvert_exporter": "python",
   "pygments_lexer": "ipython3",
   "version": "3.13.2"
  }
 },
 "nbformat": 4,
 "nbformat_minor": 5
}
